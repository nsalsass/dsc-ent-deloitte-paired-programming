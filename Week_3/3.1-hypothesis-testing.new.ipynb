{
 "cells": [
  {
   "cell_type": "markdown",
   "metadata": {
    "id": "aZtSqIOJdoB5"
   },
   "source": [
    "# ⚯ Pair Programming 3.1 - Hypothesis Testing"
   ]
  },
  {
   "cell_type": "markdown",
   "metadata": {
    "id": "VYcXqBhLdoB8"
   },
   "source": [
    "In this exercise, you will have the opportunity to decide to pick the variables that you want to perform one and two sample t-tests."
   ]
  },
  {
   "cell_type": "markdown",
   "metadata": {
    "id": "bemRQ-KhdoB9"
   },
   "source": [
    "## Objectives\n",
    "\n",
    "You will be able to:\n",
    "\n",
    "* Construct and interpret a confidence interval for a single mean\n",
    "* Perform a hypothesis test for a single mean\n",
    "* Construct and interpret a confidence interval for two independent means\n",
    "* Perform a hypothesis test for two independent means\n"
   ]
  },
  {
   "cell_type": "markdown",
   "metadata": {
    "id": "yveycAz2doB9"
   },
   "source": [
    "## The Data: Last Words of Death Row Inmates\n",
    "\n",
    "On Kaggle there is a famous data set of *[Last Words of Death Row Inmates](https://www.kaggle.com/datasets/mykhe1097/last-words-of-death-row-inmates)*. While this data set is often used for natural language processing, we'll use the non-text data for statistical inference on one and two means using the t-distribution."
   ]
  },
  {
   "cell_type": "markdown",
   "metadata": {
    "id": "AFwoq4PulATc"
   },
   "source": [
    "### Data Dictionary\n",
    "\n",
    "The dataset consists of 545 observations with 21 variables. They are:\n",
    "\n",
    "* `Execution`: The order of execution, numeric.\n",
    "* `LastName`: Last name of the offender, character.\n",
    "* `FirstName`: First name of the offender, character.\n",
    "* `TDCJNumber`: TDCJ Number of the offender, numeric.\n",
    "* `Age`: Age of the offender, numeric.\n",
    "* `Race`: Race of the offender, categorical : Black, Hispanic, White, Other.\n",
    "* `CountyOfConviction`: County of conviction, character.\n",
    "* `AgeWhenReceived`: Age of offender when received, numeric.\n",
    "* `EducationLevel`: Education level of offender, numeric.\n",
    "* `NativeCounty`: Native county of offender, categorical : 0 = Within Texas, 1= Outside Texas.\n",
    "* `PreviousCrime`: Whether the offender committed any crime before, categorical: 0= No, 1= Yes.\n",
    "* `Codefendants`: Number of co-defendants, numeric.\n",
    "* `NumberVictim`: Number of victims, numeric.\n",
    "* `WhiteVictim`, `HispanicVictim`, `BlackVictim`, `VictimOtherRace` `FemaleVictim`, `MaleVictim`: Number of victims with specified demographic features, numeric.\n",
    "* `LastStatement`: Last statement of offender, character.\n",
    "\n",
    "The [data file](https://github.com/learn-co-curriculum/dsc-hypothesis-testing-ent/blob/main/data/texas.csv) that we'll be using has the first 20 variables, i.e. we're excluding the `LastStatement` variable.\n",
    "\n",
    "*N.B.*: Note this data is from 1982 - 2017 and for that time period the data is exhaustive."
   ]
  },
  {
   "cell_type": "markdown",
   "metadata": {
    "id": "Ob72RcZhdoB-"
   },
   "source": [
    "## Preliminary Steps\n",
    "\n",
    "As usual, begin with importing the Python libraries that you will need. Then bring in the data and explore it.\n",
    "\n",
    "You'll likely want to use `scipy.stats`. If you want to use `confidence_interval(confidence_level=0.95)` with [`scipy.stats.ttest_ind`](https://docs.scipy.org/doc/scipy/reference/generated/scipy.stats.ttest_ind.html), then you need to have `scipy` version 1.11.0."
   ]
  },
  {
   "cell_type": "code",
   "execution_count": 52,
   "metadata": {
    "id": "j-03O-Ig3tH_"
   },
   "outputs": [
    {
     "name": "stdout",
     "output_type": "stream",
     "text": [
      "Collecting scipy==1.10.0\n",
      "  Downloading scipy-1.10.0-cp38-cp38-win_amd64.whl (42.2 MB)\n",
      "Collecting numpy<1.27.0,>=1.19.5\n",
      "  Downloading numpy-1.24.4-cp38-cp38-win_amd64.whl (14.9 MB)\n",
      "Installing collected packages: numpy, scipy\n",
      "  Attempting uninstall: numpy\n",
      "    Found existing installation: numpy 1.18.5\n",
      "    Uninstalling numpy-1.18.5:\n",
      "      Successfully uninstalled numpy-1.18.5\n"
     ]
    },
    {
     "name": "stderr",
     "output_type": "stream",
     "text": [
      "ERROR: Could not install packages due to an EnvironmentError: [WinError 5] Access is denied: 'C:\\\\Users\\\\nisalas\\\\AppData\\\\Local\\\\anaconda3\\\\envs\\\\learn-env\\\\Lib\\\\site-packages\\\\~umpy\\\\.libs\\\\libopenblas.PYQHXLVVQ7VESDPUVUADXEVJOBGHJPAY.gfortran-win_amd64.dll'\n",
      "Consider using the `--user` option or check the permissions.\n",
      "\n"
     ]
    }
   ],
   "source": [
    "# Pip install version 1.11.0 of scipy (if necessary)\n",
    "# Code here\n",
    "\n",
    "! pip install scipy==1.10.0"
   ]
  },
  {
   "cell_type": "code",
   "execution_count": 1,
   "metadata": {
    "id": "EhrUxX3-iyk6"
   },
   "outputs": [
    {
     "data": {
      "text/plain": [
       "'1.10.0'"
      ]
     },
     "execution_count": 1,
     "metadata": {},
     "output_type": "execute_result"
    }
   ],
   "source": [
    "# Bring in germane libraries; you may need to require scipy 11.1.0\n",
    "import pandas as pd\n",
    "import matplotlib.pyplot as plt\n",
    "import scipy\n",
    "import scipy.stats as stats\n",
    "scipy.__version__\n",
    "# Code here"
   ]
  },
  {
   "cell_type": "code",
   "execution_count": 3,
   "metadata": {},
   "outputs": [
    {
     "data": {
      "text/plain": [
       "'1.10.0'"
      ]
     },
     "execution_count": 3,
     "metadata": {},
     "output_type": "execute_result"
    }
   ],
   "source": [
    "\n",
    "scipy.__version__"
   ]
  },
  {
   "cell_type": "code",
   "execution_count": 4,
   "metadata": {
    "id": "V8YZQ1Oe3cJV"
   },
   "outputs": [],
   "source": [
    "# Your code here to bring in the data\n",
    "\n",
    "df = pd.read_csv('data/texas.csv')"
   ]
  },
  {
   "cell_type": "markdown",
   "metadata": {
    "id": "I63AnyI7j1wJ"
   },
   "source": [
    "Now that you have brought in the data. Consider these or similar commands to get a feel for the data.\n",
    "* `.info()`\n",
    "* `.head()`\n",
    "\n"
   ]
  },
  {
   "cell_type": "code",
   "execution_count": 5,
   "metadata": {
    "id": "tAqquY033xxP"
   },
   "outputs": [
    {
     "name": "stdout",
     "output_type": "stream",
     "text": [
      "<class 'pandas.core.frame.DataFrame'>\n",
      "RangeIndex: 383 entries, 0 to 382\n",
      "Data columns (total 18 columns):\n",
      " #   Column              Non-Null Count  Dtype \n",
      "---  ------              --------------  ----- \n",
      " 0   LastName            383 non-null    object\n",
      " 1   FirstName           383 non-null    object\n",
      " 2   TDCJNumber          383 non-null    int64 \n",
      " 3   Age                 383 non-null    int64 \n",
      " 4   Race                383 non-null    object\n",
      " 5   CountyOfConviction  383 non-null    object\n",
      " 6   AgeWhenReceived     383 non-null    int64 \n",
      " 7   EducationLevel      383 non-null    int64 \n",
      " 8   NativeCounty        383 non-null    int64 \n",
      " 9   PreviousCrime       383 non-null    int64 \n",
      " 10  Codefendants        383 non-null    int64 \n",
      " 11  NumberVictim        383 non-null    int64 \n",
      " 12  WhiteVictim         383 non-null    int64 \n",
      " 13  HispanicVictim      383 non-null    int64 \n",
      " 14  BlackVictim         383 non-null    int64 \n",
      " 15  VictimOther.Races   383 non-null    int64 \n",
      " 16  FemaleVictim        383 non-null    int64 \n",
      " 17  MaleVictim          383 non-null    int64 \n",
      "dtypes: int64(14), object(4)\n",
      "memory usage: 54.0+ KB\n"
     ]
    }
   ],
   "source": [
    "# Your code here; you may want to use multiple code chunks for .info() and .head()\n",
    "df.info()"
   ]
  },
  {
   "cell_type": "code",
   "execution_count": 6,
   "metadata": {},
   "outputs": [
    {
     "data": {
      "text/html": [
       "<div>\n",
       "<style scoped>\n",
       "    .dataframe tbody tr th:only-of-type {\n",
       "        vertical-align: middle;\n",
       "    }\n",
       "\n",
       "    .dataframe tbody tr th {\n",
       "        vertical-align: top;\n",
       "    }\n",
       "\n",
       "    .dataframe thead th {\n",
       "        text-align: right;\n",
       "    }\n",
       "</style>\n",
       "<table border=\"1\" class=\"dataframe\">\n",
       "  <thead>\n",
       "    <tr style=\"text-align: right;\">\n",
       "      <th></th>\n",
       "      <th>LastName</th>\n",
       "      <th>FirstName</th>\n",
       "      <th>TDCJNumber</th>\n",
       "      <th>Age</th>\n",
       "      <th>Race</th>\n",
       "      <th>CountyOfConviction</th>\n",
       "      <th>AgeWhenReceived</th>\n",
       "      <th>EducationLevel</th>\n",
       "      <th>NativeCounty</th>\n",
       "      <th>PreviousCrime</th>\n",
       "      <th>Codefendants</th>\n",
       "      <th>NumberVictim</th>\n",
       "      <th>WhiteVictim</th>\n",
       "      <th>HispanicVictim</th>\n",
       "      <th>BlackVictim</th>\n",
       "      <th>VictimOther.Races</th>\n",
       "      <th>FemaleVictim</th>\n",
       "      <th>MaleVictim</th>\n",
       "    </tr>\n",
       "  </thead>\n",
       "  <tbody>\n",
       "    <tr>\n",
       "      <th>0</th>\n",
       "      <td>Cardenas</td>\n",
       "      <td>Ruben</td>\n",
       "      <td>999275</td>\n",
       "      <td>47</td>\n",
       "      <td>Hispanic</td>\n",
       "      <td>Hidalgo</td>\n",
       "      <td>28</td>\n",
       "      <td>11</td>\n",
       "      <td>1</td>\n",
       "      <td>0</td>\n",
       "      <td>0</td>\n",
       "      <td>1</td>\n",
       "      <td>0</td>\n",
       "      <td>1</td>\n",
       "      <td>0</td>\n",
       "      <td>0</td>\n",
       "      <td>1</td>\n",
       "      <td>0</td>\n",
       "    </tr>\n",
       "    <tr>\n",
       "      <th>1</th>\n",
       "      <td>Pruett</td>\n",
       "      <td>Robert</td>\n",
       "      <td>999411</td>\n",
       "      <td>38</td>\n",
       "      <td>White</td>\n",
       "      <td>Bee</td>\n",
       "      <td>22</td>\n",
       "      <td>8</td>\n",
       "      <td>0</td>\n",
       "      <td>1</td>\n",
       "      <td>0</td>\n",
       "      <td>1</td>\n",
       "      <td>1</td>\n",
       "      <td>0</td>\n",
       "      <td>0</td>\n",
       "      <td>0</td>\n",
       "      <td>0</td>\n",
       "      <td>1</td>\n",
       "    </tr>\n",
       "    <tr>\n",
       "      <th>2</th>\n",
       "      <td>Preyor</td>\n",
       "      <td>Taichin</td>\n",
       "      <td>999494</td>\n",
       "      <td>46</td>\n",
       "      <td>Black</td>\n",
       "      <td>Bexar</td>\n",
       "      <td>34</td>\n",
       "      <td>10</td>\n",
       "      <td>0</td>\n",
       "      <td>0</td>\n",
       "      <td>0</td>\n",
       "      <td>1</td>\n",
       "      <td>1</td>\n",
       "      <td>0</td>\n",
       "      <td>0</td>\n",
       "      <td>0</td>\n",
       "      <td>0</td>\n",
       "      <td>1</td>\n",
       "    </tr>\n",
       "    <tr>\n",
       "      <th>3</th>\n",
       "      <td>Bigby</td>\n",
       "      <td>James</td>\n",
       "      <td>997</td>\n",
       "      <td>61</td>\n",
       "      <td>White</td>\n",
       "      <td>Tarrant</td>\n",
       "      <td>36</td>\n",
       "      <td>9</td>\n",
       "      <td>0</td>\n",
       "      <td>1</td>\n",
       "      <td>0</td>\n",
       "      <td>1</td>\n",
       "      <td>1</td>\n",
       "      <td>0</td>\n",
       "      <td>0</td>\n",
       "      <td>0</td>\n",
       "      <td>0</td>\n",
       "      <td>1</td>\n",
       "    </tr>\n",
       "    <tr>\n",
       "      <th>4</th>\n",
       "      <td>Ruiz</td>\n",
       "      <td>Rolando</td>\n",
       "      <td>999145</td>\n",
       "      <td>44</td>\n",
       "      <td>Hispanic</td>\n",
       "      <td>Bexar</td>\n",
       "      <td>22</td>\n",
       "      <td>10</td>\n",
       "      <td>0</td>\n",
       "      <td>1</td>\n",
       "      <td>4</td>\n",
       "      <td>1</td>\n",
       "      <td>0</td>\n",
       "      <td>1</td>\n",
       "      <td>0</td>\n",
       "      <td>0</td>\n",
       "      <td>1</td>\n",
       "      <td>0</td>\n",
       "    </tr>\n",
       "  </tbody>\n",
       "</table>\n",
       "</div>"
      ],
      "text/plain": [
       "   LastName FirstName  TDCJNumber  Age      Race CountyOfConviction  \\\n",
       "0  Cardenas     Ruben      999275   47  Hispanic            Hidalgo   \n",
       "1    Pruett    Robert      999411   38     White                Bee   \n",
       "2    Preyor   Taichin      999494   46     Black              Bexar   \n",
       "3     Bigby     James         997   61     White            Tarrant   \n",
       "4      Ruiz   Rolando      999145   44  Hispanic              Bexar   \n",
       "\n",
       "   AgeWhenReceived  EducationLevel  NativeCounty  PreviousCrime  Codefendants  \\\n",
       "0               28              11             1              0             0   \n",
       "1               22               8             0              1             0   \n",
       "2               34              10             0              0             0   \n",
       "3               36               9             0              1             0   \n",
       "4               22              10             0              1             4   \n",
       "\n",
       "   NumberVictim  WhiteVictim  HispanicVictim  BlackVictim  VictimOther.Races  \\\n",
       "0             1            0               1            0                  0   \n",
       "1             1            1               0            0                  0   \n",
       "2             1            1               0            0                  0   \n",
       "3             1            1               0            0                  0   \n",
       "4             1            0               1            0                  0   \n",
       "\n",
       "   FemaleVictim  MaleVictim  \n",
       "0             1           0  \n",
       "1             0           1  \n",
       "2             0           1  \n",
       "3             0           1  \n",
       "4             1           0  "
      ]
     },
     "execution_count": 6,
     "metadata": {},
     "output_type": "execute_result"
    }
   ],
   "source": [
    "df.head()"
   ]
  },
  {
   "cell_type": "markdown",
   "metadata": {
    "id": "mzP09_zBdoB_"
   },
   "source": [
    "### Preprocessing"
   ]
  },
  {
   "cell_type": "markdown",
   "metadata": {
    "id": "tm9XD1lWxBXW"
   },
   "source": [
    "While there are a number of preprocessing steps you may choose to make, at the very least you should do the following.\n",
    "\n",
    "Based on the data dictionary and how the data is interpreted by Numpy, convert any non-numeric data into the proper form. Verify that your code worked correctly."
   ]
  },
  {
   "cell_type": "code",
   "execution_count": 24,
   "metadata": {
    "id": "oIAcR7ar38PA"
   },
   "outputs": [],
   "source": [
    "# Your code here; you may want to use multiple code chunks\n",
    "df['PreviousCrime'] = df['PreviousCrime'].replace({0: 'No', 1: 'Yes'})\n",
    "df['NativeCounty'] = df['NativeCounty'].replace({0: 'No', 1: 'Yes'})"
   ]
  },
  {
   "cell_type": "code",
   "execution_count": 26,
   "metadata": {},
   "outputs": [
    {
     "data": {
      "text/html": [
       "<div>\n",
       "<style scoped>\n",
       "    .dataframe tbody tr th:only-of-type {\n",
       "        vertical-align: middle;\n",
       "    }\n",
       "\n",
       "    .dataframe tbody tr th {\n",
       "        vertical-align: top;\n",
       "    }\n",
       "\n",
       "    .dataframe thead th {\n",
       "        text-align: right;\n",
       "    }\n",
       "</style>\n",
       "<table border=\"1\" class=\"dataframe\">\n",
       "  <thead>\n",
       "    <tr style=\"text-align: right;\">\n",
       "      <th></th>\n",
       "      <th>LastName</th>\n",
       "      <th>FirstName</th>\n",
       "      <th>TDCJNumber</th>\n",
       "      <th>Age</th>\n",
       "      <th>Race</th>\n",
       "      <th>CountyOfConviction</th>\n",
       "      <th>AgeWhenReceived</th>\n",
       "      <th>EducationLevel</th>\n",
       "      <th>NativeCounty</th>\n",
       "      <th>PreviousCrime</th>\n",
       "      <th>Codefendants</th>\n",
       "      <th>NumberVictim</th>\n",
       "      <th>WhiteVictim</th>\n",
       "      <th>HispanicVictim</th>\n",
       "      <th>BlackVictim</th>\n",
       "      <th>VictimOther.Races</th>\n",
       "      <th>FemaleVictim</th>\n",
       "      <th>MaleVictim</th>\n",
       "    </tr>\n",
       "  </thead>\n",
       "  <tbody>\n",
       "    <tr>\n",
       "      <th>0</th>\n",
       "      <td>Cardenas</td>\n",
       "      <td>Ruben</td>\n",
       "      <td>999275</td>\n",
       "      <td>47</td>\n",
       "      <td>Hispanic</td>\n",
       "      <td>Hidalgo</td>\n",
       "      <td>28</td>\n",
       "      <td>11</td>\n",
       "      <td>Yes</td>\n",
       "      <td>No</td>\n",
       "      <td>0</td>\n",
       "      <td>1</td>\n",
       "      <td>0</td>\n",
       "      <td>1</td>\n",
       "      <td>0</td>\n",
       "      <td>0</td>\n",
       "      <td>1</td>\n",
       "      <td>0</td>\n",
       "    </tr>\n",
       "    <tr>\n",
       "      <th>1</th>\n",
       "      <td>Pruett</td>\n",
       "      <td>Robert</td>\n",
       "      <td>999411</td>\n",
       "      <td>38</td>\n",
       "      <td>White</td>\n",
       "      <td>Bee</td>\n",
       "      <td>22</td>\n",
       "      <td>8</td>\n",
       "      <td>No</td>\n",
       "      <td>Yes</td>\n",
       "      <td>0</td>\n",
       "      <td>1</td>\n",
       "      <td>1</td>\n",
       "      <td>0</td>\n",
       "      <td>0</td>\n",
       "      <td>0</td>\n",
       "      <td>0</td>\n",
       "      <td>1</td>\n",
       "    </tr>\n",
       "    <tr>\n",
       "      <th>2</th>\n",
       "      <td>Preyor</td>\n",
       "      <td>Taichin</td>\n",
       "      <td>999494</td>\n",
       "      <td>46</td>\n",
       "      <td>Black</td>\n",
       "      <td>Bexar</td>\n",
       "      <td>34</td>\n",
       "      <td>10</td>\n",
       "      <td>No</td>\n",
       "      <td>No</td>\n",
       "      <td>0</td>\n",
       "      <td>1</td>\n",
       "      <td>1</td>\n",
       "      <td>0</td>\n",
       "      <td>0</td>\n",
       "      <td>0</td>\n",
       "      <td>0</td>\n",
       "      <td>1</td>\n",
       "    </tr>\n",
       "    <tr>\n",
       "      <th>3</th>\n",
       "      <td>Bigby</td>\n",
       "      <td>James</td>\n",
       "      <td>997</td>\n",
       "      <td>61</td>\n",
       "      <td>White</td>\n",
       "      <td>Tarrant</td>\n",
       "      <td>36</td>\n",
       "      <td>9</td>\n",
       "      <td>No</td>\n",
       "      <td>Yes</td>\n",
       "      <td>0</td>\n",
       "      <td>1</td>\n",
       "      <td>1</td>\n",
       "      <td>0</td>\n",
       "      <td>0</td>\n",
       "      <td>0</td>\n",
       "      <td>0</td>\n",
       "      <td>1</td>\n",
       "    </tr>\n",
       "    <tr>\n",
       "      <th>4</th>\n",
       "      <td>Ruiz</td>\n",
       "      <td>Rolando</td>\n",
       "      <td>999145</td>\n",
       "      <td>44</td>\n",
       "      <td>Hispanic</td>\n",
       "      <td>Bexar</td>\n",
       "      <td>22</td>\n",
       "      <td>10</td>\n",
       "      <td>No</td>\n",
       "      <td>Yes</td>\n",
       "      <td>4</td>\n",
       "      <td>1</td>\n",
       "      <td>0</td>\n",
       "      <td>1</td>\n",
       "      <td>0</td>\n",
       "      <td>0</td>\n",
       "      <td>1</td>\n",
       "      <td>0</td>\n",
       "    </tr>\n",
       "  </tbody>\n",
       "</table>\n",
       "</div>"
      ],
      "text/plain": [
       "   LastName FirstName  TDCJNumber  Age      Race CountyOfConviction  \\\n",
       "0  Cardenas     Ruben      999275   47  Hispanic            Hidalgo   \n",
       "1    Pruett    Robert      999411   38     White                Bee   \n",
       "2    Preyor   Taichin      999494   46     Black              Bexar   \n",
       "3     Bigby     James         997   61     White            Tarrant   \n",
       "4      Ruiz   Rolando      999145   44  Hispanic              Bexar   \n",
       "\n",
       "   AgeWhenReceived  EducationLevel NativeCounty PreviousCrime  Codefendants  \\\n",
       "0               28              11          Yes            No             0   \n",
       "1               22               8           No           Yes             0   \n",
       "2               34              10           No            No             0   \n",
       "3               36               9           No           Yes             0   \n",
       "4               22              10           No           Yes             4   \n",
       "\n",
       "   NumberVictim  WhiteVictim  HispanicVictim  BlackVictim  VictimOther.Races  \\\n",
       "0             1            0               1            0                  0   \n",
       "1             1            1               0            0                  0   \n",
       "2             1            1               0            0                  0   \n",
       "3             1            1               0            0                  0   \n",
       "4             1            0               1            0                  0   \n",
       "\n",
       "   FemaleVictim  MaleVictim  \n",
       "0             1           0  \n",
       "1             0           1  \n",
       "2             0           1  \n",
       "3             0           1  \n",
       "4             1           0  "
      ]
     },
     "execution_count": 26,
     "metadata": {},
     "output_type": "execute_result"
    }
   ],
   "source": [
    "df.head()"
   ]
  },
  {
   "cell_type": "markdown",
   "metadata": {
    "id": "0YKRMML9sMZd"
   },
   "source": [
    "### EDA\n",
    "\n",
    "Now perform Exploratory Data Analysis of at least three variables of your choosing. You should look at both descriptive statistics and visualizations."
   ]
  },
  {
   "cell_type": "code",
   "execution_count": 7,
   "metadata": {
    "id": "m0Qg2JdD4QKy"
   },
   "outputs": [
    {
     "data": {
      "text/plain": [
       "28.503916449086162"
      ]
     },
     "execution_count": 7,
     "metadata": {},
     "output_type": "execute_result"
    }
   ],
   "source": [
    "# Your code here; you may want to use multiple code chunks\n",
    "\n",
    "df['AgeWhenReceived'].mean()"
   ]
  },
  {
   "cell_type": "code",
   "execution_count": 8,
   "metadata": {},
   "outputs": [
    {
     "data": {
      "text/plain": [
       "Harris          73\n",
       "Dallas          34\n",
       "Tarrant         32\n",
       "Bexar           30\n",
       "Montgomery      12\n",
       "                ..\n",
       "Val Verde        1\n",
       "Dawson           1\n",
       "Freestone        1\n",
       "Kendall          1\n",
       "San Patricio     1\n",
       "Name: CountyOfConviction, Length: 82, dtype: int64"
      ]
     },
     "execution_count": 8,
     "metadata": {},
     "output_type": "execute_result"
    }
   ],
   "source": [
    "df['CountyOfConviction'].value_counts()"
   ]
  },
  {
   "cell_type": "code",
   "execution_count": 9,
   "metadata": {},
   "outputs": [
    {
     "data": {
      "text/plain": [
       "Harris        73\n",
       "Dallas        34\n",
       "Tarrant       32\n",
       "Bexar         30\n",
       "Montgomery    12\n",
       "Nueces        11\n",
       "Jefferson     11\n",
       "Smith         11\n",
       "Brazos        11\n",
       "Lubbock        8\n",
       "Name: CountyOfConviction, dtype: int64"
      ]
     },
     "execution_count": 9,
     "metadata": {},
     "output_type": "execute_result"
    }
   ],
   "source": [
    "df['CountyOfConviction'].value_counts()[:10]"
   ]
  },
  {
   "cell_type": "code",
   "execution_count": 10,
   "metadata": {},
   "outputs": [
    {
     "data": {
      "text/plain": [
       "<BarContainer object of 6 artists>"
      ]
     },
     "execution_count": 10,
     "metadata": {},
     "output_type": "execute_result"
    },
    {
     "data": {
      "image/png": "[encoded data removed]",
      "text/plain": [
       "<Figure size 432x288 with 1 Axes>"
      ]
     },
     "metadata": {
      "needs_background": "light"
     },
     "output_type": "display_data"
    }
   ],
   "source": [
    "plt.bar(df['CountyOfConviction'].value_counts()[:6].index, df['CountyOfConviction'].value_counts()[:6])\n",
    " "
   ]
  },
  {
   "cell_type": "markdown",
   "metadata": {
    "id": "IZuCqdl0zCZy"
   },
   "source": [
    "## Statistical Inference"
   ]
  },
  {
   "cell_type": "markdown",
   "metadata": {
    "id": "1Dq2fGxM0dnU"
   },
   "source": [
    "### One mean"
   ]
  },
  {
   "cell_type": "markdown",
   "metadata": {
    "id": "soyonlcH0ev-"
   },
   "source": [
    "Now pick a variable that you can perform statistical inference on a single sample mean using the t-distribution."
   ]
  },
  {
   "cell_type": "markdown",
   "metadata": {
    "id": "87GfQFt3QjEy"
   },
   "source": [
    "In the code block below please respond to all of the following (commented out):\n",
    "\n",
    "*   What is the variable you chose?\n",
    "*   How do you know it is appropriate for statistical inference on a single mean using the t-distribution?\n",
    "*   You'll be asked to contruct and interpret a confidence interval. What is the level of confidence that you'll pick?\n",
    "*   You'll be asked to perform a hypothesis test.\n",
    "  *   What are the null and alternative hypotheses?\n",
    "  *   What is the level of significance?\n",
    "\n"
   ]
  },
  {
   "cell_type": "code",
   "execution_count": 19,
   "metadata": {
    "id": "vuecGCDUP0lU"
   },
   "outputs": [],
   "source": [
    "# Type your responses to the bullet points here\n",
    "# Age\n",
    "# We can take a sample less than 30 \n",
    "# Level of confidence .95\n",
    "# Null: There is no difference in the ages sample and population\n",
    "# Alt: There is a difference is the ages sample and population "
   ]
  },
  {
   "cell_type": "code",
   "execution_count": 20,
   "metadata": {},
   "outputs": [],
   "source": [
    "#AgeWhenReceived\n",
    "#we have the full dataset\n",
    "#level of confidence .95\n",
    "# Null: There is no difference in theAgeWhenReceived sample and population\n",
    "# Alt: There is a difference is the AgeWhenReceived sample and population "
   ]
  },
  {
   "cell_type": "markdown",
   "metadata": {
    "id": "h1o5o7cITLe6"
   },
   "source": [
    "#### Confidence Interval"
   ]
  },
  {
   "cell_type": "markdown",
   "metadata": {
    "id": "fnG0w6QeTYD1"
   },
   "source": [
    "Now construct a confidence interval for your chosen variable at the level of confidence you chose above."
   ]
  },
  {
   "cell_type": "code",
   "execution_count": 21,
   "metadata": {
    "id": "dXjlJClSTiKu"
   },
   "outputs": [
    {
     "data": {
      "text/plain": [
       "ConfidenceInterval(low=38.503965849221714, high=40.24277044320648)"
      ]
     },
     "execution_count": 21,
     "metadata": {},
     "output_type": "execute_result"
    }
   ],
   "source": [
    "# Type your code for the confidence interval here.\n",
    "\n",
    "Age_CI = stats.ttest_1samp(df.Age, popmean=df['Age'].mean())\n",
    "Age_CI.confidence_interval(confidence_level=0.95)"
   ]
  },
  {
   "cell_type": "code",
   "execution_count": 25,
   "metadata": {},
   "outputs": [
    {
     "data": {
      "text/plain": [
       "ConfidenceInterval(low=27.68190973621669, high=29.325923161955636)"
      ]
     },
     "execution_count": 25,
     "metadata": {},
     "output_type": "execute_result"
    }
   ],
   "source": [
    "Age_when_con_CI = stats.ttest_1samp(df.AgeWhenReceived, popmean=df['AgeWhenReceived'].mean())\n",
    "Age_when_con_CI.confidence_interval(confidence_level=0.95)"
   ]
  },
  {
   "cell_type": "markdown",
   "metadata": {
    "id": "emTNtBqvTqh3"
   },
   "source": [
    "Interpret the confidence interval in the code block below (commented out)."
   ]
  },
  {
   "cell_type": "code",
   "execution_count": null,
   "metadata": {
    "id": "bLt2zZhWTwXk"
   },
   "outputs": [],
   "source": [
    "# Interpret the confidence interval (this is true for both Age and AgeWhenReceived)\n",
    "# if were to pull samples it is expected that 95% to be within the pop mean "
   ]
  },
  {
   "cell_type": "markdown",
   "metadata": {
    "id": "VGFky-GaT_Om"
   },
   "source": [
    "#### Hypothesis Test"
   ]
  },
  {
   "cell_type": "markdown",
   "metadata": {
    "id": "C0l8ylVUUW9F"
   },
   "source": [
    "Now perform a hypothesis test for your chosen variable at the level of significance you chose above."
   ]
  },
  {
   "cell_type": "code",
   "execution_count": null,
   "metadata": {},
   "outputs": [],
   "source": [
    "print(df['Age'].mean())\n",
    "age = stats.ttest_1samp(df['Age'], popmean = 39)\n",
    "\n",
    "age"
   ]
  },
  {
   "cell_type": "code",
   "execution_count": 28,
   "metadata": {},
   "outputs": [
    {
     "data": {
      "text/plain": [
       "28.503916449086162"
      ]
     },
     "execution_count": 28,
     "metadata": {},
     "output_type": "execute_result"
    }
   ],
   "source": [
    "df['AgeWhenReceived'].mean()"
   ]
  },
  {
   "cell_type": "code",
   "execution_count": 30,
   "metadata": {
    "id": "BOtQ2Ro2UEwT"
   },
   "outputs": [
    {
     "name": "stdout",
     "output_type": "stream",
     "text": [
      "28.503916449086162\n"
     ]
    },
    {
     "data": {
      "text/plain": [
       "TtestResult(statistic=1.2053396093540385, pvalue=0.22881834497084155, df=382)"
      ]
     },
     "execution_count": 30,
     "metadata": {},
     "output_type": "execute_result"
    }
   ],
   "source": [
    "# Type your code for the hypothesis test here.\n",
    "\n",
    "print(df['AgeWhenReceived'].mean())\n",
    "age = stats.ttest_1samp(df['AgeWhenReceived'], popmean = 28)\n",
    "\n",
    "age"
   ]
  },
  {
   "cell_type": "markdown",
   "metadata": {
    "id": "ZD2k0txIVX3y"
   },
   "source": [
    "Draw the appropriate conclusion for the hypothesis test and justify your answer in the code block below (commented out)."
   ]
  },
  {
   "cell_type": "code",
   "execution_count": 13,
   "metadata": {
    "id": "LIi-fFiJVkof"
   },
   "outputs": [],
   "source": [
    "# Draw the conclusion from the hypothesis test (this is the same for Age and AgeWhenRecieved )\n",
    "# we fail to reject the null hypothesus because the pvalue was greater "
   ]
  },
  {
   "cell_type": "markdown",
   "metadata": {
    "id": "VnIXJUgCSH3l"
   },
   "source": [
    "### Two means"
   ]
  },
  {
   "cell_type": "markdown",
   "metadata": {
    "id": "IUlz7BvxSM5Q"
   },
   "source": [
    "Now pick a variable that you can perform statistical inference on two (independent) sample means using the t-distribution."
   ]
  },
  {
   "cell_type": "markdown",
   "metadata": {
    "id": "_PXV36ayTBJK"
   },
   "source": [
    "In the code block below please respond to all of the following (commented out):\n",
    "\n",
    "*   What are the variables you chose?\n",
    "*   How do you know it is appropriate for statistical inference on two (independent)means using the t-distribution?\n",
    "*   You'll be asked to contruct and interpret a confidence interval. What is the level of confidence that you'll pick?\n",
    "*   You'll be asked to perform a hypothesis test.\n",
    "  *   What are the null and alternative hypotheses?\n",
    "  *   What is the level of significance?"
   ]
  },
  {
   "cell_type": "code",
   "execution_count": null,
   "metadata": {
    "id": "p794VpcXWTEE"
   },
   "outputs": [],
   "source": [
    "# Type your responses to the bullet points here"
   ]
  },
  {
   "cell_type": "code",
   "execution_count": 17,
   "metadata": {
    "id": "3YovLGNIzwQl"
   },
   "outputs": [],
   "source": [
    "pc = df[df['PreviousCrime'] == 'Yes']\n",
    "npc = df[df['PreviousCrime'] == 'No']"
   ]
  },
  {
   "cell_type": "markdown",
   "metadata": {
    "id": "Pc3egPxSWTdE"
   },
   "source": [
    "#### Confidence Interval"
   ]
  },
  {
   "cell_type": "markdown",
   "metadata": {
    "id": "3MiDuELxWZ_T"
   },
   "source": [
    "Now construct a confidence interval for your chosen variables at the level of confidence you chose above."
   ]
  },
  {
   "cell_type": "code",
   "execution_count": null,
   "metadata": {
    "id": "fsDCdxnyWcKm"
   },
   "outputs": [],
   "source": [
    "# Type your code for the confidence interval here."
   ]
  },
  {
   "cell_type": "markdown",
   "metadata": {
    "id": "pPRD7akgWs1R"
   },
   "source": [
    "Interpret the confidence interval in the code block below (commented out)."
   ]
  },
  {
   "cell_type": "code",
   "execution_count": null,
   "metadata": {
    "id": "O6X00_ewWvmI"
   },
   "outputs": [],
   "source": [
    "# Interpret the confidence interval"
   ]
  },
  {
   "cell_type": "markdown",
   "metadata": {
    "id": "6DsuqsS9XEPN"
   },
   "source": [
    "#### Hypothesis Test"
   ]
  },
  {
   "cell_type": "markdown",
   "metadata": {
    "id": "UqEBwLsyXHfi"
   },
   "source": [
    "Now perform a hypothesis test for your chosen variable at the level of significance you chose above."
   ]
  },
  {
   "cell_type": "code",
   "execution_count": null,
   "metadata": {
    "id": "1OYdIRYHXJ0N"
   },
   "outputs": [],
   "source": [
    "# Type your code for the hypothesis test here."
   ]
  },
  {
   "cell_type": "markdown",
   "metadata": {
    "id": "AdN0_obgXQlD"
   },
   "source": [
    "Draw the appropriate conclusion for the hypothesis test and justify your answer in the code block below (commented out)."
   ]
  },
  {
   "cell_type": "code",
   "execution_count": null,
   "metadata": {
    "id": "oFFaMsBIXQ-y"
   },
   "outputs": [],
   "source": [
    "# Draw the conclusion from the hypothesis test"
   ]
  },
  {
   "cell_type": "markdown",
   "metadata": {
    "id": "KiRJUYK3doCA"
   },
   "source": [
    "## Summary"
   ]
  },
  {
   "cell_type": "markdown",
   "metadata": {
    "id": "6x2NdSafXYsl"
   },
   "source": [
    "Using a multivariate data set, you were able to pick variables to perform one and two sample t confidence intervals and t-tests."
   ]
  }
 ],
 "metadata": {
  "colab": {
   "provenance": []
  },
  "kernelspec": {
   "display_name": "Python 3",
   "language": "python",
   "name": "python3"
  },
  "language_info": {
   "codemirror_mode": {
    "name": "ipython",
    "version": 3
   },
   "file_extension": ".py",
   "mimetype": "text/x-python",
   "name": "python",
   "nbconvert_exporter": "python",
   "pygments_lexer": "ipython3",
   "version": "3.8.5"
  }
 },
 "nbformat": 4,
 "nbformat_minor": 1
}
